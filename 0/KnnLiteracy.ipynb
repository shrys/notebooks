{
 "cells": [
  {
   "cell_type": "code",
   "execution_count": 1,
   "metadata": {},
   "outputs": [],
   "source": [
    "from sklearn.neighbors import KNeighborsClassifier\n",
    "from sklearn.metrics import accuracy_score\n",
    "from sklearn.model_selection import train_test_split\n",
    "import pandas as pd"
   ]
  },
  {
   "cell_type": "code",
   "execution_count": 2,
   "metadata": {},
   "outputs": [],
   "source": [
    "basicData = pd.read_csv('Districtwise_Basicdata.csv',header=[1])\n",
    "enrData = pd.read_csv('Districtwise_Enrollment_details_indicator.csv',header=[3])\n",
    "schoolData = pd.read_csv('Districtwise_SchoolData.csv',header=[3])\n",
    "teacherData = pd.read_csv('Districtwise_Teacher_indicator.csv',header=[3])"
   ]
  },
  {
   "cell_type": "code",
   "execution_count": 3,
   "metadata": {},
   "outputs": [],
   "source": [
    "renameCol = {'Year' : 'year', 'ac_year': 'year', 'Statecd': 'statecd'}\n",
    "dropCol = ['statename','distname']\n",
    "basicData.drop(dropCol, axis=1,inplace=True)\n",
    "basicData.rename(columns=renameCol, inplace=True)"
   ]
  },
  {
   "cell_type": "code",
   "execution_count": 4,
   "metadata": {},
   "outputs": [],
   "source": [
    "teacherData.drop(dropCol, axis=1, inplace=True)\n",
    "teacherData.rename(columns=renameCol, inplace=True)"
   ]
  },
  {
   "cell_type": "code",
   "execution_count": 5,
   "metadata": {},
   "outputs": [],
   "source": [
    "dropCol = ['State Name ','distname']\n",
    "schoolData.drop(dropCol, axis=1, inplace=True)\n",
    "schoolData.rename(columns=renameCol, inplace=True)"
   ]
  },
  {
   "cell_type": "code",
   "execution_count": 6,
   "metadata": {},
   "outputs": [],
   "source": [
    "enrData.drop(dropCol, axis=1, inplace=True)\n",
    "enrData.rename(columns=renameCol, inplace=True)"
   ]
  },
  {
   "cell_type": "code",
   "execution_count": 7,
   "metadata": {},
   "outputs": [],
   "source": [
    "left = basicData\n",
    "right = teacherData\n",
    "dflist = [schoolData, enrData]\n",
    "for df in dflist:\n",
    "    data = pd.merge(left, right, how='outer', on=['year', 'statecd','distcd'])\n",
    "    left = data\n",
    "    right = df"
   ]
  },
  {
   "cell_type": "code",
   "execution_count": 8,
   "metadata": {},
   "outputs": [],
   "source": [
    "replaceVal = {'2012-13': 1, '2013-14': 2}\n",
    "data.year = data.year.map(replaceVal)"
   ]
  },
  {
   "cell_type": "code",
   "execution_count": 9,
   "metadata": {
    "scrolled": true
   },
   "outputs": [
    {
     "data": {
      "text/plain": [
       "{dtype('int64'): Index(['year', 'statecd', 'distcd', 'blocks', 'clusters', 'villages',\n",
       "        'totschools', 'tch_govt1', 'tch_govt2', 'tch_govt3',\n",
       "        ...\n",
       "        'Computer Sch4', 'Computer Sch5', 'Mdm 1', 'Mdm 2', 'Mdm 3', 'Mdm 5',\n",
       "        'Mdm 6', 'Smc 1', 'Smc 2', 'Smc 4'],\n",
       "       dtype='object', length=335),\n",
       " dtype('float64'): Index(['totpopulation', 'p_06_pop', 'p_urb_pop', 'sexratio', 'sexratio_06',\n",
       "        'growthrate', 'p_sc_pop', 'p_st_pop', 'female_lit', 'schgovt4',\n",
       "        'schgovt6', 'schgovt7', 'schgovt9', 'schpvt3', 'schpvt4', 'schpvt5',\n",
       "        'schpvt7', 'schpvt9', 'Sch R Govt2', 'Sch R Govt3', 'Sch R Govt4',\n",
       "        'Sch R Govt5', 'Sch R Govt6', 'Sch R Govt9', 'Sch R Pvt3', 'Sch R Pvt4',\n",
       "        'Sch R Pvt5', 'Sch R Pvt9', 'Cls1 School3', 'Gtoilet Sch1',\n",
       "        'Gtoilet Sch2', 'Gtoilet Sch3', 'Gtoilet Sch4', 'Gtoilet Sch5',\n",
       "        'Gtoilet Sch6', 'Gtoilet Sch7', 'Gtoilet Sch', 'Sch 50enr3', 'Kitshed3',\n",
       "        'Cls Minor3', 'Cls Other3', 'Cls Other', 'Sdg 1', 'Sdg 2', 'Sdg 3',\n",
       "        'Sdg 4', 'Sdg 5', 'Sdg 6', 'Sdg 7', 'Tlm 1', 'Tlm 2', 'Tlm 3', 'Tlm 4',\n",
       "        'Tlm 5', 'Tlm 6', 'Tlm 7', 'Station P G', 'Transport P B',\n",
       "        'Transport P G', 'Transport Up B', 'Transport Up G', 'Residential P B',\n",
       "        'Residential P G', 'Residential Up B', 'Sch Un2', 'Sch Un4',\n",
       "        'Btoilet Sch1', 'Btoilet Sch2', 'Btoilet Sch3', 'Btoilet Sch4',\n",
       "        'Btoilet Sch5', 'Btoilet Sch6', 'Btoilet Sch7', 'Electric Sch4',\n",
       "        'Electric Sch7', 'Computer Sch3', 'Computer Sch6', 'Computer Sch7',\n",
       "        'Mdm 4', 'Mdm 7', 'Smc 3', 'Smc 5', 'Smc 6', 'Smc 7', 'App By Road 1',\n",
       "        'App By Road 2', 'App By Road 3', 'App By Road 4', 'App By Road 5',\n",
       "        'App By Road 6', 'App By Road 7', 'Scr 30 P', 'Scr 35 Up', 'Ptr 30 P',\n",
       "        'Ptr 35 Up', 'Avg Instn Days P', 'Avg Instn Days Up'],\n",
       "       dtype='object'),\n",
       " dtype('O'): Index(['overall_lit'], dtype='object')}"
      ]
     },
     "execution_count": 9,
     "metadata": {},
     "output_type": "execute_result"
    }
   ],
   "source": [
    "data.columns.to_series().groupby(data.dtypes).groups"
   ]
  },
  {
   "cell_type": "code",
   "execution_count": 10,
   "metadata": {},
   "outputs": [
    {
     "data": {
      "text/plain": [
       "array(['High', 'Low', 'Medium', nan], dtype=object)"
      ]
     },
     "execution_count": 10,
     "metadata": {},
     "output_type": "execute_result"
    }
   ],
   "source": [
    "data.overall_lit.unique()"
   ]
  },
  {
   "cell_type": "code",
   "execution_count": 11,
   "metadata": {},
   "outputs": [],
   "source": [
    "data.overall_lit = data.overall_lit.map({'High': 1, 'Low': -1, 'Medium': 0})"
   ]
  },
  {
   "cell_type": "code",
   "execution_count": 12,
   "metadata": {},
   "outputs": [
    {
     "data": {
      "text/plain": [
       "totpopulation        True\n",
       "p_06_pop             True\n",
       "p_urb_pop            True\n",
       "sexratio             True\n",
       "sexratio_06          True\n",
       "growthrate           True\n",
       "p_sc_pop             True\n",
       "p_st_pop             True\n",
       "overall_lit          True\n",
       "female_lit           True\n",
       "schgovt4             True\n",
       "schgovt6             True\n",
       "schgovt7             True\n",
       "schgovt9             True\n",
       "schpvt3              True\n",
       "schpvt4              True\n",
       "schpvt5              True\n",
       "schpvt7              True\n",
       "schpvt9              True\n",
       "Sch R Govt2          True\n",
       "Sch R Govt3          True\n",
       "Sch R Govt4          True\n",
       "Sch R Govt5          True\n",
       "Sch R Govt6          True\n",
       "Sch R Govt9          True\n",
       "Sch R Pvt3           True\n",
       "Sch R Pvt4           True\n",
       "Sch R Pvt5           True\n",
       "Sch R Pvt9           True\n",
       "Cls1 School3         True\n",
       "                     ... \n",
       "Tlm 7                True\n",
       "Station P G          True\n",
       "Residential Up B     True\n",
       "Sch Un2              True\n",
       "Sch Un4              True\n",
       "Btoilet Sch6         True\n",
       "Electric Sch4        True\n",
       "Electric Sch7        True\n",
       "Computer Sch3        True\n",
       "Computer Sch6        True\n",
       "Computer Sch7        True\n",
       "Mdm 4                True\n",
       "Mdm 7                True\n",
       "Smc 3                True\n",
       "Smc 5                True\n",
       "Smc 6                True\n",
       "Smc 7                True\n",
       "App By Road 1        True\n",
       "App By Road 2        True\n",
       "App By Road 3        True\n",
       "App By Road 4        True\n",
       "App By Road 5        True\n",
       "App By Road 6        True\n",
       "App By Road 7        True\n",
       "Scr 30 P             True\n",
       "Scr 35 Up            True\n",
       "Ptr 30 P             True\n",
       "Ptr 35 Up            True\n",
       "Avg Instn Days P     True\n",
       "Avg Instn Days Up    True\n",
       "Length: 66, dtype: bool"
      ]
     },
     "execution_count": 12,
     "metadata": {},
     "output_type": "execute_result"
    }
   ],
   "source": [
    "data.isna().any()[data.isna().any() == True]"
   ]
  },
  {
   "cell_type": "code",
   "execution_count": 13,
   "metadata": {},
   "outputs": [],
   "source": [
    "data.fillna(method='ffill', inplace=True)"
   ]
  },
  {
   "cell_type": "code",
   "execution_count": 14,
   "metadata": {},
   "outputs": [],
   "source": [
    "# Function to clip and clam the data\n",
    "def clip_clamp(x, mean, sd):\n",
    "    # Checking whether the value is less than a differenced value between mean and standard deviation.\n",
    "    if x < mean - 2*sd :\n",
    "        return mean - 2*sd\n",
    "    #Checking whether the value is greater than a differenced value between mean and standard deviation.\n",
    "    elif x > mean + 2*sd :\n",
    "        return mean + 2*sd\n",
    "    # If above two conditions are not statisfied we will return the original value\n",
    "    else :\n",
    "        return x"
   ]
  },
  {
   "cell_type": "code",
   "execution_count": 15,
   "metadata": {},
   "outputs": [],
   "source": [
    "# Function to smooth the data\n",
    "def smooth_out(Total_data):\n",
    "    for i in Total_data.columns:\n",
    "        # Calculating the mean value\n",
    "        mean = np.mean(Total_data[i].values, axis=0)\n",
    "        # Calculating the standard deviation value\n",
    "        sd = np.std(Total_data[i].values, axis=0)\n",
    "        # Calculating the corrected value using clip and clamp function\n",
    "        corrected = np.array([clip_clamp(x, mean, sd) for x in Total_data[i].values])\n",
    "        # Storing the data in form of series\n",
    "        Total_data[i] = pd.Series(corrected, index=Total_data[i].index)\n",
    "    return Total_data"
   ]
  },
  {
   "cell_type": "code",
   "execution_count": 16,
   "metadata": {},
   "outputs": [],
   "source": [
    "import numpy as np\n",
    "data = smooth_out(data)"
   ]
  },
  {
   "cell_type": "code",
   "execution_count": 17,
   "metadata": {},
   "outputs": [],
   "source": [
    "def corr_features(df,cols,bar=0.9):\n",
    "    for c,i in enumerate(cols[:-1]):\n",
    "        col_set = set(cols)\n",
    "        for j in cols[c+1:]:\n",
    "            if i==j:\n",
    "                continue\n",
    "           \n",
    "            score = df[i].corr(df[j])\n",
    "            \n",
    "            if score>bar:\n",
    "                cols = list(col_set-set([j]))\n",
    "            if score<-bar:\n",
    "                cols = list(col_set-set([j]))\n",
    "    return cols"
   ]
  },
  {
   "cell_type": "code",
   "execution_count": 18,
   "metadata": {},
   "outputs": [],
   "source": [
    "features = corr_features(data, data.columns)"
   ]
  },
  {
   "cell_type": "code",
   "execution_count": 19,
   "metadata": {},
   "outputs": [
    {
     "data": {
      "text/plain": [
       "['tch_bs1',\n",
       " 'Enr Stch Sch5',\n",
       " 'Cls Major',\n",
       " 'tch_nr7',\n",
       " 'Sch 50enr7',\n",
       " 'Sdg 4',\n",
       " 'Scr 35 Up',\n",
       " 'Tlm 6',\n",
       " 'No Fem Sch3',\n",
       " 'tch_pvt3',\n",
       " 'Smc 4',\n",
       " 'tch_sc_m2',\n",
       " 'tch_f_p1',\n",
       " 'Pp Sch1',\n",
       " 'Sch R Govt4',\n",
       " 'Computer Sch5',\n",
       " 'tch_sc_f5',\n",
       " 'tch_st_m6',\n",
       " 'Computer Sch2',\n",
       " 'tch_bs4',\n",
       " 'Attend Up G',\n",
       " 'tch_f5',\n",
       " 'tch_mph1',\n",
       " 'tch_f_p5',\n",
       " 'tch_f4',\n",
       " 'Uniform P B',\n",
       " 'Sch R Pvt2',\n",
       " 'p_sc_pop',\n",
       " 'Computer Sch1',\n",
       " 'Sch R Govt2',\n",
       " 'tch_nr_p5',\n",
       " 'Sch 50enr2',\n",
       " 'Tch1 School3',\n",
       " 'Attend P G',\n",
       " 'tch_nr5',\n",
       " 'Sch Un2',\n",
       " 'tch_pgrad2',\n",
       " 'tch_s7',\n",
       " 'tch_pgrad6',\n",
       " 'tch_sc_f1',\n",
       " 'tch_pgrad7',\n",
       " 'Mdm 5',\n",
       " 'Kitshed2',\n",
       " 'Tot Cls2',\n",
       " 'tch_s5',\n",
       " 'tch_s4',\n",
       " 'Sch R Pvt7',\n",
       " 'tch_nr_p4',\n",
       " 'tch_m_p2',\n",
       " 'overall_lit',\n",
       " 'tch_un6',\n",
       " 'Cls Good2',\n",
       " 'tch_grad7',\n",
       " 'tch_pvt7',\n",
       " 'Enr Stch Sch3',\n",
       " 'Gtoilet Sch7',\n",
       " 'tch_eduqual_nr5',\n",
       " 'Sdg 7',\n",
       " 'No Fem Sch2',\n",
       " 'Sch Since 2003 7',\n",
       " 'Tch1 School',\n",
       " 'tch_f_p6',\n",
       " 'Station Up G',\n",
       " 'tch_st_f5',\n",
       " 'Cls Good6',\n",
       " 'Water Sch5',\n",
       " 'Cls Other4',\n",
       " 'schgovt2',\n",
       " 'trn_tch_m1',\n",
       " 'tch_f1',\n",
       " 'Book P G',\n",
       " 'Tlm 1',\n",
       " 'tch_pd3',\n",
       " 'Pp Sch2',\n",
       " 'Enr Stch Sch2',\n",
       " 'trn_tch_f6',\n",
       " 'Tlm 3',\n",
       " 'tch_eduqual_nr4',\n",
       " 'tch_pd5',\n",
       " 'Cls Major4',\n",
       " 'growthrate',\n",
       " 'Kitshed4',\n",
       " 'tch_s6',\n",
       " 'Sch R Pvt6',\n",
       " 'Sch R Pvt1',\n",
       " 'Mdm 3',\n",
       " 'tch_nr3',\n",
       " 'tch_hs2',\n",
       " 'Btoilet Sch1',\n",
       " 'Cls1 School2',\n",
       " 'Water Sch7',\n",
       " 'Sch 50enr6',\n",
       " 'tch_st_m1',\n",
       " 'Electric Sch1',\n",
       " 'tch_govt2',\n",
       " 'Water Sch',\n",
       " 'Sch R Pvt9',\n",
       " 'Residential Up B',\n",
       " 'Ptr 30 P',\n",
       " 'Enr Stch Sch6',\n",
       " 'schgovt3',\n",
       " 'tch_un2',\n",
       " 'villages',\n",
       " 'Cls1 School3',\n",
       " 'Cls Good',\n",
       " 'tch_mph3',\n",
       " 'Cls Minor7',\n",
       " 'Transport Up B',\n",
       " 'tch_bs7',\n",
       " 'schgovt1',\n",
       " 'Cls Other5',\n",
       " 'tch_mph_p',\n",
       " 'Ptr 35 Up',\n",
       " 'Cls Major7',\n",
       " 'tch_grad4',\n",
       " 'tch_f_p7',\n",
       " 'No Fem Sch7',\n",
       " 'tch_s1',\n",
       " 'Cls1 School7',\n",
       " 'tch_eduqual_nr2',\n",
       " 'tch_grad1',\n",
       " 'Kitshed6',\n",
       " 'tch_sc_f4',\n",
       " 'Transport P B',\n",
       " 'Sch Since 2003 3',\n",
       " 'tch_bs3',\n",
       " 'tch_sc_m1',\n",
       " 'Computer Sch4',\n",
       " 'tch_pvt6',\n",
       " 'tch_st_f2',\n",
       " 'Mdm 4',\n",
       " 'tch_eduqual_nr3',\n",
       " 'App By Road 6',\n",
       " 'Uniform Up B',\n",
       " 'trn_tch_m6',\n",
       " 'tch_pvt9',\n",
       " 'Cls Major2',\n",
       " 'clusters',\n",
       " 'tch_m6',\n",
       " 'Uniform Up G',\n",
       " 'Cls Major5',\n",
       " 'Water Sch6',\n",
       " 'tch_nr_p3',\n",
       " 'Sdg 6',\n",
       " 'tch_eduqual_nr_p',\n",
       " 'Sch R Govt1',\n",
       " 'Sch R Govt6',\n",
       " 'Cls Minor2',\n",
       " 'tch_pvt4',\n",
       " 'No Fem Sch1',\n",
       " 'p_urb_pop',\n",
       " 'Kitshed1',\n",
       " 'Mdm 6',\n",
       " 'Kitshed7',\n",
       " 'Btoilet Sch5',\n",
       " 'Sch R Govt3',\n",
       " 'tch_s_p',\n",
       " 'Cls Other7',\n",
       " 'Smc 6',\n",
       " 'tch_eduqual_nr7',\n",
       " 'tch_st_m5',\n",
       " 'tch_sc_f7',\n",
       " 'schgovt9',\n",
       " 'Cls Minor3',\n",
       " 'Cls Other6',\n",
       " 'Book P B',\n",
       " 'tch_bs6',\n",
       " 'Sch R Govt5',\n",
       " 'Residential P B',\n",
       " 'Gtoilet Sch',\n",
       " 'schgovt7',\n",
       " 'Smc 7',\n",
       " 'App By Road 2',\n",
       " 'sexratio_06',\n",
       " 'Computer Sch3',\n",
       " 'trn_tch_m4',\n",
       " 'tch_bs_p',\n",
       " 'Sch R Pvt3',\n",
       " 'Cls Good1',\n",
       " 'Sdg 5',\n",
       " 'Cls Other2',\n",
       " 'trn_tch_f2',\n",
       " 'tch_nr_p2',\n",
       " 'tch_govt6',\n",
       " 'Avg Instn Days P',\n",
       " 'tch_mph2',\n",
       " 'tch_st_m7',\n",
       " 'Electric Sch2',\n",
       " 'App By Road 7',\n",
       " 'tch_grad6',\n",
       " 'tch_sc_f2',\n",
       " 'Sdg 2',\n",
       " 'tch_pvt1',\n",
       " 'Cls Major1',\n",
       " 'App By Road 3',\n",
       " 'trn_tch_f1',\n",
       " 'Residential P G',\n",
       " 'tch_grad5',\n",
       " 'tch_pvt5',\n",
       " 'No Fem Sch',\n",
       " 'trn_tch_f3',\n",
       " 'Pp Sch3',\n",
       " 'tch_st_m3',\n",
       " 'year',\n",
       " 'Sch Un6',\n",
       " 'trn_tch_m3',\n",
       " 'Sch Un5',\n",
       " 'Btoilet Sch4',\n",
       " 'trn_tch_f5',\n",
       " 'Cls Other',\n",
       " 'Attend P B',\n",
       " 'tch_m_p7',\n",
       " 'Btoilet Sch3',\n",
       " 'Btoilet Sch7',\n",
       " 'tch_s2',\n",
       " 'tch_m4',\n",
       " 'tch_pgrad4',\n",
       " 'tch_st_m2',\n",
       " 'female_lit',\n",
       " 'tch_govt5',\n",
       " 'Computer Sch6',\n",
       " 'Station P B',\n",
       " 'tch_f7',\n",
       " 'Tlm 2',\n",
       " 'Residential Up G',\n",
       " 'Sch R Govt9',\n",
       " 'tch_bs2',\n",
       " 'tch_pgrad3',\n",
       " 'tch_grad2',\n",
       " 'tch_hs3',\n",
       " 'Sch 50enr4',\n",
       " 'Gtoilet Sch6',\n",
       " 'Avg Instn Days Up',\n",
       " 'trn_tch_m5',\n",
       " 'tch_m3',\n",
       " 'sexratio',\n",
       " 'Electric Sch7',\n",
       " 'tch_pd_p',\n",
       " 'trn_tch_f4',\n",
       " 'Tch1 School5',\n",
       " 'tch_nr6',\n",
       " 'tch_st_f6',\n",
       " 'Tlm 7',\n",
       " 'tch_m_p6',\n",
       " 'tch_un3',\n",
       " 'tch_bs5',\n",
       " 'Sch Un3',\n",
       " 'tch_govt3',\n",
       " 'Tot Cls',\n",
       " 'Cls Minor',\n",
       " 'App By Road 5',\n",
       " 'Tot Cls5',\n",
       " 'tch_nr_p6',\n",
       " 'schpvt9',\n",
       " 'Cls1 School5',\n",
       " 'No Fem Sch5',\n",
       " 'Tch1 School6',\n",
       " 'tch_sc_f3',\n",
       " 'Sch Un9',\n",
       " 'App By Road 4',\n",
       " 'tch_nr1',\n",
       " 'Station P G',\n",
       " 'Sch Un7',\n",
       " 'tch_st_f1',\n",
       " 'tch_mph4',\n",
       " 'Sch Since 2003 5',\n",
       " 'Sch Un1',\n",
       " 'Cls Minor5',\n",
       " 'Gtoilet Sch5',\n",
       " 'tch_nr2',\n",
       " 'Cls Other1',\n",
       " 'trn_tch_m7',\n",
       " 'Sch Since 2003 6',\n",
       " 'Uniform P G',\n",
       " 'tch_hs7',\n",
       " 'Sch 50enr1',\n",
       " 'Mdm 7',\n",
       " 'Computer Sch7',\n",
       " 'Cls Major6',\n",
       " 'Transport Up G',\n",
       " 'tch_pd4',\n",
       " 'trn_tch_m2',\n",
       " 'tch_hs5',\n",
       " 'tch_mph6',\n",
       " 'Sch 50enr3',\n",
       " 'No Fem Sch4',\n",
       " 'tch_un9',\n",
       " 'Smc 2',\n",
       " 'Smc 1',\n",
       " 'Sdg 3',\n",
       " 'Cls1 School4',\n",
       " 'Sch Since 2003 1',\n",
       " 'tch_sc_m7',\n",
       " 'p_st_pop',\n",
       " 'tch_nr4',\n",
       " 'tch_un1',\n",
       " 'tch_hs6',\n",
       " 'tch_mph5',\n",
       " 'Sch Un4',\n",
       " 'tch_st_f3',\n",
       " 'tch_pd6',\n",
       " 'tch_f_p3',\n",
       " 'Cls Minor1',\n",
       " 'tch_f6',\n",
       " 'Btoilet Sch2',\n",
       " 'Kitshed3',\n",
       " 'tch_m_p3',\n",
       " 'No Fem Sch6',\n",
       " 'Electric Sch3',\n",
       " 'tch_nr_p7',\n",
       " 'tch_sc_m3',\n",
       " 'prof_trn_tch_r',\n",
       " 'tch_un4',\n",
       " 'Scr 30 P',\n",
       " 'tch_mph7',\n",
       " 'tch_s3',\n",
       " 'App By Road 1',\n",
       " 'tch_pd7',\n",
       " 'tch_govt9',\n",
       " 'tch_sc_m6',\n",
       " 'tch_pd1',\n",
       " 'tch_m_p5',\n",
       " 'Station Up B',\n",
       " 'tch_hs1',\n",
       " 'Mdm 1',\n",
       " 'tch_pgrad1',\n",
       " 'tch_f_p2',\n",
       " 'Book Up B',\n",
       " 'Sch 50enr5',\n",
       " 'Cls Minor6',\n",
       " 'Gtoilet Sch4',\n",
       " 'Cls Major3',\n",
       " 'tch_sc_f6',\n",
       " 'tch_un5',\n",
       " 'Pp Sch6',\n",
       " 'Electric Sch4',\n",
       " 'Attend Up B',\n",
       " 'tch_f2',\n",
       " 'trn_tch_f7',\n",
       " 'tch_eduqual_nr6',\n",
       " 'Transport P G',\n",
       " 'Electric Sch5',\n",
       " 'Tlm 5',\n",
       " 'tch_eduqual_nr1',\n",
       " 'Mdm 2',\n",
       " 'Cls Other3',\n",
       " 'tch_un7',\n",
       " 'tch_nontch',\n",
       " 'Gtoilet Sch2',\n",
       " 'Sch Since 2003 2',\n",
       " 'Cls1 School6',\n",
       " 'tch_nr_p1',\n",
       " 'Book Up G',\n",
       " 'Smc 5',\n",
       " 'Btoilet Sch6',\n",
       " 'tch_pgrad_p',\n",
       " 'days_nontch',\n",
       " 'Tch1 School2',\n",
       " 'tch_grad_p',\n",
       " 'prof_trn_tch_p',\n",
       " 'Electric Sch6',\n",
       " 'tch_pd2',\n",
       " 'blocks',\n",
       " 'Sdg 1',\n",
       " 'Gtoilet Sch3',\n",
       " 'tch_st_f7',\n",
       " 'tch_hs4',\n",
       " 'Tlm 4']"
      ]
     },
     "execution_count": 19,
     "metadata": {},
     "output_type": "execute_result"
    }
   ],
   "source": [
    "features"
   ]
  },
  {
   "cell_type": "code",
   "execution_count": 20,
   "metadata": {},
   "outputs": [],
   "source": [
    "features.remove('overall_lit')"
   ]
  },
  {
   "cell_type": "code",
   "execution_count": 21,
   "metadata": {},
   "outputs": [],
   "source": [
    "from sklearn.preprocessing import StandardScaler\n",
    "scaler = StandardScaler()"
   ]
  },
  {
   "cell_type": "code",
   "execution_count": 22,
   "metadata": {
    "scrolled": true
   },
   "outputs": [
    {
     "name": "stderr",
     "output_type": "stream",
     "text": [
      "remote\\users\\batman\\appdata\\local\\programs\\python\\python36\\lib\\site-packages\\sklearn\\preprocessing\\data.py:645: DataConversionWarning: Data with input dtype int64, float64 were all converted to float64 by StandardScaler.\n",
      "  return self.partial_fit(X, y)\n"
     ]
    },
    {
     "data": {
      "text/plain": [
       "StandardScaler(copy=True, with_mean=True, with_std=True)"
      ]
     },
     "execution_count": 22,
     "metadata": {},
     "output_type": "execute_result"
    }
   ],
   "source": [
    "scaler.fit(data[features])"
   ]
  },
  {
   "cell_type": "code",
   "execution_count": 23,
   "metadata": {
    "scrolled": true
   },
   "outputs": [
    {
     "name": "stderr",
     "output_type": "stream",
     "text": [
      "remote\\users\\batman\\appdata\\local\\programs\\python\\python36\\lib\\site-packages\\ipykernel_launcher.py:1: DataConversionWarning: Data with input dtype int64, float64 were all converted to float64 by StandardScaler.\n",
      "  \"\"\"Entry point for launching an IPython kernel.\n"
     ]
    }
   ],
   "source": [
    "data[features] = scaler.transform(data[features])"
   ]
  },
  {
   "cell_type": "code",
   "execution_count": 24,
   "metadata": {},
   "outputs": [],
   "source": [
    "def callKnn(data,targets):\n",
    "  X_train, X_test, y_train, y_test = train_test_split(data, targets, test_size=0.33)\n",
    "  neigh = KNeighborsClassifier(n_neighbors=3)\n",
    "  neigh.fit(X_train, y_train)\n",
    "  predicted_labels = neigh.predict(X_test)\n",
    "  return accuracy_score(y_test,predicted_labels)"
   ]
  },
  {
   "cell_type": "code",
   "execution_count": 25,
   "metadata": {},
   "outputs": [
    {
     "data": {
      "text/plain": [
       "0.6041189931350115"
      ]
     },
     "execution_count": 25,
     "metadata": {},
     "output_type": "execute_result"
    }
   ],
   "source": [
    "callKnn(data,data.overall_lit)"
   ]
  },
  {
   "cell_type": "code",
   "execution_count": null,
   "metadata": {},
   "outputs": [],
   "source": []
  }
 ],
 "metadata": {
  "kernelspec": {
   "display_name": "Python 3",
   "language": "python",
   "name": "python3"
  },
  "language_info": {
   "codemirror_mode": {
    "name": "ipython",
    "version": 3
   },
   "file_extension": ".py",
   "mimetype": "text/x-python",
   "name": "python",
   "nbconvert_exporter": "python",
   "pygments_lexer": "ipython3",
   "version": "3.6.3"
  }
 },
 "nbformat": 4,
 "nbformat_minor": 2
}
