{
  "nbformat": 4,
  "nbformat_minor": 0,
  "metadata": {
    "colab": {
      "name": "Untitled0.ipynb",
      "version": "0.3.2",
      "provenance": [],
      "collapsed_sections": []
    },
    "kernelspec": {
      "name": "python3",
      "display_name": "Python 3"
    }
  },
  "cells": [
    {
      "cell_type": "code",
      "metadata": {
        "id": "j38p5WF2C0E-",
        "colab_type": "code",
        "colab": {}
      },
      "source": [
        "# Importing required packages\n",
        "import numpy as np\n",
        "import matplotlib.pyplot as plt\n",
        "import os\n",
        "import scipy.io as sio\n",
        "import itertools\n",
        "import operator\n",
        "import random\n",
        "import collections\n",
        "from scipy import stats\n",
        "from sklearn.metrics import accuracy_score"
      ],
      "execution_count": 0,
      "outputs": []
    },
    {
      "cell_type": "code",
      "metadata": {
        "id": "Xb-XZWwVIwzI",
        "colab_type": "code",
        "colab": {}
      },
      "source": [
        "def unpickle(file):\n",
        "    import pickle\n",
        "    with open(file, 'rb') as fo:\n",
        "        dict = pickle.load(fo, encoding='latin1')\n",
        "    return dict"
      ],
      "execution_count": 0,
      "outputs": []
    },
    {
      "cell_type": "markdown",
      "metadata": {
        "id": "DMogGGXAI3LI",
        "colab_type": "text"
      },
      "source": [
        "data - a 10,000x3072 numpy array of uint8s. Each row of the array stores a 32x32 colour image. The first 1024 entries contain the red channel values, the next 1024 the green, and the final 1024 the blue. The image is stored in row-major order, so that the first 32 entries of the array are the red channel values of the first row of the image.\n",
        "\n",
        "labels - a list of 10,000 numbers in the range 0-9. The number at index i indicates the label of the ith image in the array data.\n"
      ]
    },
    {
      "cell_type": "markdown",
      "metadata": {
        "id": "E6NvFpFrI3tM",
        "colab_type": "text"
      },
      "source": [
        "Visualization"
      ]
    },
    {
      "cell_type": "code",
      "metadata": {
        "id": "NRoXd4HkIzM7",
        "colab_type": "code",
        "colab": {}
      },
      "source": [
        "def get_data(file):\n",
        "    dict = unpickle(file)\n",
        "    X = np.asarray(dict['data']).astype(\"uint8\")\n",
        "    Y = np.asarray(dict['labels'])\n",
        "    names = np.asarray(dict['filenames'])\n",
        "    list_class=(unpickle(\"AIML_DS_CIFAR-10_STD/batches.meta\")['label_names'])\n",
        "    return X,Y,names,list_class\n",
        "                     \n",
        "def visualize_image(X, Y, names, image_id):\n",
        "    rgb = X[image_id,:]\n",
        "    img = rgb.reshape(3, 32, 32).transpose([1, 2, 0])\n",
        "    print(img.shape)\n",
        "    plt.grid(False)\n",
        "    plt.imshow(img)\n",
        "    plt.title(names[image_id])\n",
        "    plt.show()"
      ],
      "execution_count": 0,
      "outputs": []
    },
    {
      "cell_type": "code",
      "metadata": {
        "id": "KohO3JStI9p5",
        "colab_type": "code",
        "outputId": "3f9a3f89-886b-4f60-ceab-fd0384016a96",
        "colab": {
          "base_uri": "https://localhost:8080/",
          "height": 318
        }
      },
      "source": [
        "X, Y, names, classes = get_data(\"AIML_DS_CIFAR-10_STD/data_batch_3\")\n",
        "pick = 10\n",
        "print(\"Class =\",classes[Y[pick]])\n",
        "visualize_image(X, Y, names, pick)"
      ],
      "execution_count": 0,
      "outputs": [
        {
          "output_type": "stream",
          "text": [
            "Class = horse\n",
            "(32, 32, 3)\n"
          ],
          "name": "stdout"
        },
        {
          "output_type": "display_data",
          "data": {
            "image/png": "[encoded data removed]",
            "text/plain": [
              "<Figure size 432x288 with 1 Axes>"
            ]
          },
          "metadata": {
            "tags": []
          }
        }
      ]
    },
    {
      "cell_type": "code",
      "metadata": {
        "id": "Dt58AxP-JJm6",
        "colab_type": "code",
        "colab": {}
      },
      "source": [
        "## Linear classifier\n",
        "# function to estimate optimal linear boundary\n",
        "# classify train data by estimating the optimal linear boundary\n",
        "# predict labels based on linear boundary\n",
        "# and compute the accuracy of the classification\n",
        "\n",
        "def perceptron_sgd(X, Y):\n",
        "    w = np.zeros(len(X[0]))\n",
        "    eta = 0.01 # learning rate\n",
        "    epochs = 100\n",
        "    for t in range(epochs):\n",
        "        if (t+1) % 50 == 0:\n",
        "            print(\"Running Epoch #\", t+1)\n",
        "            print(\"acc:\", compute_accuracy(predict(X[:, :-1], w), Y))\n",
        "        for i, x in enumerate(X):\n",
        "            if (np.dot(X[i], w) * Y[i]) <= 0:\n",
        "                w = w + eta*X[i]*Y[i] #updating weights by multiplying eta\n",
        "        eta *= 0.75 #decreasing eta after every epoch\n",
        "    return w\n"
      ],
      "execution_count": 0,
      "outputs": []
    },
    {
      "cell_type": "code",
      "metadata": {
        "id": "OhWAF_qSJ7ki",
        "colab_type": "code",
        "colab": {}
      },
      "source": [
        "# classify train data by estimating the optimal linear boundary,\n",
        "def classify(train_feat, train_labels):\n",
        "    ## mapping first label to -1 and second to +1\n",
        "    labels = np.sort(np.unique(train_labels))\n",
        "    lmap = {labels[0] : -1, labels[1] : 1}\n",
        "    l = [lmap[i] for i in train_labels]     \n",
        "    ## appending 1 to train features\n",
        "    add_one2train = np.ones((len(train_feat), 1))\n",
        "    append_train_features = np.hstack((np.asarray(train_feat), add_one2train))\n",
        "    w = perceptron_sgd(append_train_features, l)\n",
        "    return w"
      ],
      "execution_count": 0,
      "outputs": []
    },
    {
      "cell_type": "code",
      "metadata": {
        "id": "lWBx4tiQKytC",
        "colab_type": "code",
        "colab": {}
      },
      "source": [
        "# predict labels based on linear boundary,\n",
        "def predict(features, w):\n",
        "    ##appending 1 to test features\n",
        "    add_one = np.ones((len(features),1))\n",
        "    append_features = np.hstack((np.asarray(features), add_one))\n",
        "    pred = np.dot(append_features, w)\n",
        "    return pred"
      ],
      "execution_count": 0,
      "outputs": []
    },
    {
      "cell_type": "code",
      "metadata": {
        "id": "xcS2K_eCK0dF",
        "colab_type": "code",
        "colab": {}
      },
      "source": [
        "# compute the accuracy of the classification\n",
        "def compute_accuracy(pred, test_labels):\n",
        "    # To make it general, let us find the unique set of labels in test_labels\n",
        "    labels = np.sort(np.unique(test_labels))\n",
        "    # and then assign -1 and 1 to these unique labels\n",
        "    lmap = {labels[0] : -1, labels[1] : 1}\n",
        "    # Let's now convert the labels to -1 and 1\n",
        "    l = [lmap[i] for i in test_labels]\n",
        "    # Let us find the accuracy\n",
        "    p = []\n",
        "    for i in range(len(pred)):\n",
        "        p.append(1 if pred[i] >= 0 else -1)\n",
        "    acc = np.mean(np.asarray(p) == np.asarray(l))\n",
        "    return acc"
      ],
      "execution_count": 0,
      "outputs": []
    },
    {
      "cell_type": "code",
      "metadata": {
        "id": "KkyLUpQYK4jX",
        "colab_type": "code",
        "colab": {}
      },
      "source": [
        "# Function for binary classification\n",
        "def one_vs_one_classifier_ours(train_features, train_labels):\n",
        "    w = classify(train_features, train_labels)\n",
        "    return w\n",
        "\n",
        "def calc_accuracy(X_test, Y_test, w):\n",
        "    pred = predict(X_test, w)\n",
        "    accuracy = compute_accuracy(pred, Y_test)\n",
        "    print(\"accuracy =\", accuracy)"
      ],
      "execution_count": 0,
      "outputs": []
    },
    {
      "cell_type": "markdown",
      "metadata": {
        "id": "tcONu832LKkW",
        "colab_type": "text"
      },
      "source": [
        "Feature 1: RGB values"
      ]
    },
    {
      "cell_type": "code",
      "metadata": {
        "id": "DW1rUTdiK72g",
        "colab_type": "code",
        "colab": {}
      },
      "source": [
        "X_train = []\n",
        "Y_train = []\n",
        "# Read all training features and labels\n",
        "for j in \"12345\": \n",
        "    batch_file = 'AIML_DS_CIFAR-10_STD/data_batch_'+ j\n",
        "    x_train, y_train, names_train, classes_train = get_data(batch_file)\n",
        "    X_train.extend(x_train)\n",
        "    Y_train.extend(y_train)\n",
        "\n",
        "X_train = np.asarray(X_train)\n",
        "Y_train = np.asarray(Y_train)\n",
        "\n",
        "# Read all test features and labels\n",
        "X_test, Y_test, names_test, classes_test = get_data(\"AIML_DS_CIFAR-10_STD/test_batch\")"
      ],
      "execution_count": 0,
      "outputs": []
    },
    {
      "cell_type": "code",
      "metadata": {
        "id": "BWsysfQKLQ9O",
        "colab_type": "code",
        "outputId": "7f665eb9-0901-4764-c6cc-b53f2cb854dd",
        "colab": {
          "base_uri": "https://localhost:8080/",
          "height": 35
        }
      },
      "source": [
        "len(np.concatenate([X_train[Y_train == 5], X_train[Y_train == 7]]))"
      ],
      "execution_count": 0,
      "outputs": [
        {
          "output_type": "execute_result",
          "data": {
            "text/plain": [
              "10000"
            ]
          },
          "metadata": {
            "tags": []
          },
          "execution_count": 11
        }
      ]
    },
    {
      "cell_type": "code",
      "metadata": {
        "id": "D5NXypY6LTFd",
        "colab_type": "code",
        "outputId": "94bcfb0e-fb2a-46f5-b8f1-cec205429435",
        "colab": {
          "base_uri": "https://localhost:8080/",
          "height": 35
        }
      },
      "source": [
        "type(X_train[Y_train == 7])"
      ],
      "execution_count": 0,
      "outputs": [
        {
          "output_type": "execute_result",
          "data": {
            "text/plain": [
              "numpy.ndarray"
            ]
          },
          "metadata": {
            "tags": []
          },
          "execution_count": 12
        }
      ]
    },
    {
      "cell_type": "code",
      "metadata": {
        "id": "izKmhLQGLVRf",
        "colab_type": "code",
        "colab": {}
      },
      "source": [
        "# Function to extract the classes\n",
        "def extract_2classes(class0, class1, X, Y):\n",
        "    # Select class #0\n",
        "    X_0 = X[Y == class0]\n",
        "    Y_0 = Y[Y == class0]\n",
        "    # Select class #1\n",
        "    X_1 = X[Y == class1]\n",
        "    Y_1 = Y[Y == class1]\n",
        "    # Join the two classes to make the set\n",
        "    X_2classes = np.concatenate((X_0,X_1))\n",
        "    Y_2classes = np.concatenate([Y_0,Y_1])\n",
        "    return X_2classes, Y_2classes"
      ],
      "execution_count": 0,
      "outputs": []
    },
    {
      "cell_type": "code",
      "metadata": {
        "id": "mT1w6GZlQhor",
        "colab_type": "code",
        "colab": {}
      },
      "source": [
        "# Select classes #5 and #7\n",
        "X_train_2classes, Y_train_2classes = extract_2classes(5, 7, X_train, Y_train)\n",
        "X_test_2classes, Y_test_2classes = extract_2classes(5, 7, X_test, Y_test)#YOUR CODE HERE"
      ],
      "execution_count": 0,
      "outputs": []
    },
    {
      "cell_type": "code",
      "metadata": {
        "id": "YN0f5zsNQjj8",
        "colab_type": "code",
        "outputId": "f28a5421-f905-4a94-b959-5af8c08b6c5f",
        "colab": {
          "base_uri": "https://localhost:8080/",
          "height": 109
        }
      },
      "source": [
        "# Binary classification for classes 1 and 2\n",
        "w = one_vs_one_classifier_ours(X_train_2classes, Y_train_2classes)\n",
        "\n",
        "# Find accuracy\n",
        "calc_accuracy(X_test_2classes, Y_test_2classes, w)"
      ],
      "execution_count": 0,
      "outputs": [
        {
          "output_type": "stream",
          "text": [
            "Running Epoch # 50\n",
            "acc: 0.6486\n",
            "Running Epoch # 100\n",
            "acc: 0.6495\n",
            "accuracy = 0.644\n"
          ],
          "name": "stdout"
        }
      ]
    },
    {
      "cell_type": "markdown",
      "metadata": {
        "id": "LfyU8Ca8RcdJ",
        "colab_type": "text"
      },
      "source": [
        "Feature 2: PCA"
      ]
    },
    {
      "cell_type": "code",
      "metadata": {
        "id": "Zoqk0OSnRXOF",
        "colab_type": "code",
        "colab": {}
      },
      "source": [
        "## apply pca\n",
        "from sklearn.decomposition import PCA\n",
        "\n",
        "def extract_eigenvectors(k, X_train):\n",
        "    pca = PCA(n_components=k)\n",
        "    pca.fit(X_train)\n",
        "    eigen_vectors = pca.components_\n",
        "    return eigen_vectors, pca\n",
        "\n",
        "def make_pca_features(eigen_vectors, X):\n",
        "    return np.dot(X,np.transpose(eigen_vectors))#Dot product of Eigen Vectors and X)"
      ],
      "execution_count": 0,
      "outputs": []
    },
    {
      "cell_type": "code",
      "metadata": {
        "id": "sCa8a5slehRc",
        "colab_type": "code",
        "colab": {}
      },
      "source": [
        "# Make pca features\n",
        "k = 200\n",
        "eigen_vectors, pca_object = extract_eigenvectors(k, X_train_2classes)\n",
        "pca_features_train_2classes = make_pca_features(eigen_vectors, X_train_2classes)\n",
        "pca_features_test_2classes = make_pca_features(eigen_vectors, X_test_2classes)"
      ],
      "execution_count": 0,
      "outputs": []
    },
    {
      "cell_type": "code",
      "metadata": {
        "id": "B2CndGcLekHv",
        "colab_type": "code",
        "outputId": "573cf465-87b2-44ae-e5f4-6391b6822872",
        "colab": {
          "base_uri": "https://localhost:8080/",
          "height": 35
        }
      },
      "source": [
        "len(eigen_vectors[:][0])"
      ],
      "execution_count": 0,
      "outputs": [
        {
          "output_type": "execute_result",
          "data": {
            "text/plain": [
              "3072"
            ]
          },
          "metadata": {
            "tags": []
          },
          "execution_count": 19
        }
      ]
    },
    {
      "cell_type": "code",
      "metadata": {
        "id": "DYHGbzoZesp3",
        "colab_type": "code",
        "outputId": "047ba330-4e89-42c9-d96f-c7eba83cd1ae",
        "colab": {
          "base_uri": "https://localhost:8080/",
          "height": 35
        }
      },
      "source": [
        "pca_features_train_2classes.shape"
      ],
      "execution_count": 0,
      "outputs": [
        {
          "output_type": "execute_result",
          "data": {
            "text/plain": [
              "(10000, 200)"
            ]
          },
          "metadata": {
            "tags": []
          },
          "execution_count": 20
        }
      ]
    },
    {
      "cell_type": "code",
      "metadata": {
        "id": "CpmtA8edeu0T",
        "colab_type": "code",
        "outputId": "a634f308-48eb-45b9-b0b1-96c33f3aeb04",
        "colab": {
          "base_uri": "https://localhost:8080/",
          "height": 109
        }
      },
      "source": [
        "# Binary classification for classes 1 and 2 \n",
        "w = one_vs_one_classifier_ours(pca_features_train_2classes, Y_train_2classes)\n",
        "\n",
        "# Find accuracy\n",
        "calc_accuracy(pca_features_test_2classes, Y_test_2classes, w)"
      ],
      "execution_count": 0,
      "outputs": [
        {
          "output_type": "stream",
          "text": [
            "Running Epoch # 50\n",
            "acc: 0.6451\n",
            "Running Epoch # 100\n",
            "acc: 0.6465\n",
            "accuracy = 0.6365\n"
          ],
          "name": "stdout"
        }
      ]
    },
    {
      "cell_type": "code",
      "metadata": {
        "id": "_6NGdC0jewbR",
        "colab_type": "code",
        "outputId": "81d33da3-60e0-4b05-8a0d-55766dc71626",
        "colab": {
          "base_uri": "https://localhost:8080/",
          "height": 458
        }
      },
      "source": [
        "for k in [800, 1000, 1200, 1400]:\n",
        "    print(\"Training with k =\", k)\n",
        "    # Make pca features\n",
        "    eigen_vectors, pca_object = extract_eigenvectors(k, X_train_2classes)\n",
        "    pca_features_train = make_pca_features(eigen_vectors, X_train_2classes)\n",
        "    pca_features_test = make_pca_features(eigen_vectors, X_test_2classes)\n",
        "    # Binary classification for classes 1 and 2 \n",
        "    w = one_vs_one_classifier_ours(pca_features_train, Y_train_2classes)\n",
        "    # Find accuracy\n",
        "    calc_accuracy(pca_features_test, Y_test_2classes, w)"
      ],
      "execution_count": 0,
      "outputs": [
        {
          "output_type": "stream",
          "text": [
            "Training with k = 800\n",
            "Running Epoch # 50\n",
            "acc: 0.6512\n",
            "Running Epoch # 100\n",
            "acc: 0.651\n",
            "accuracy = 0.645\n",
            "Training with k = 1000\n",
            "Running Epoch # 50\n",
            "acc: 0.6482\n",
            "Running Epoch # 100\n",
            "acc: 0.6497\n",
            "accuracy = 0.644\n",
            "Training with k = 1200\n",
            "Running Epoch # 50\n",
            "acc: 0.6501\n",
            "Running Epoch # 100\n",
            "acc: 0.6498\n",
            "accuracy = 0.6445\n",
            "Training with k = 1400\n",
            "Running Epoch # 50\n",
            "acc: 0.6488\n",
            "Running Epoch # 100\n",
            "acc: 0.6494\n",
            "accuracy = 0.644\n"
          ],
          "name": "stdout"
        }
      ]
    },
    {
      "cell_type": "markdown",
      "metadata": {
        "id": "NQIAgsv0e4XL",
        "colab_type": "text"
      },
      "source": [
        "Feature 3: Deep features"
      ]
    },
    {
      "cell_type": "code",
      "metadata": {
        "id": "mGl1NeHPey9F",
        "colab_type": "code",
        "colab": {}
      },
      "source": [
        "### Loading the features\n",
        "features = sio.loadmat('AIML_DS_CIFAR-10_STD/cifar10_deep_features.mat')"
      ],
      "execution_count": 0,
      "outputs": []
    },
    {
      "cell_type": "code",
      "metadata": {
        "id": "g8JohjSWe7rh",
        "colab_type": "code",
        "outputId": "5a91dafe-ed0a-4e73-baa4-0b83bd3ee259",
        "colab": {
          "base_uri": "https://localhost:8080/",
          "height": 35
        }
      },
      "source": [
        "# Extracting the deep features into training and testing\n",
        "deep_features_train = features['x_train']\n",
        "deep_labels_train = np.squeeze(np.transpose(features['y_train']))\n",
        "deep_features_test = features['x_test']\n",
        "deep_labels_test = np.squeeze(np.transpose(features['y_test']))\n",
        "print(deep_features_train.shape, deep_labels_train.shape, deep_features_test.shape, deep_labels_test.shape)"
      ],
      "execution_count": 0,
      "outputs": [
        {
          "output_type": "stream",
          "text": [
            "(50000, 512) (50000,) (10000, 512) (10000,)\n"
          ],
          "name": "stdout"
        }
      ]
    },
    {
      "cell_type": "code",
      "metadata": {
        "id": "NYvcpAdSe8_K",
        "colab_type": "code",
        "outputId": "bfbcbdc9-1755-4308-9d90-95684262431b",
        "colab": {
          "base_uri": "https://localhost:8080/",
          "height": 256
        }
      },
      "source": [
        "deep_features_train[deep_labels_train == 1]"
      ],
      "execution_count": 0,
      "outputs": [
        {
          "output_type": "execute_result",
          "data": {
            "text/plain": [
              "array([[ 0.28628892,  1.5803168 ,  1.6731801 , ...,  0.10207038,\n",
              "         1.6519655 ,  0.03424041],\n",
              "       [ 0.0078609 ,  1.6982508 ,  1.7098854 , ...,  0.01749726,\n",
              "         1.670898  ,  0.01227446],\n",
              "       [ 0.00415532,  1.6800256 ,  1.724329  , ...,  0.08949629,\n",
              "         1.655726  , -0.06013504],\n",
              "       ...,\n",
              "       [ 0.11069122,  1.7514377 ,  1.7425244 , ..., -0.06992859,\n",
              "         1.8052185 ,  0.19582546],\n",
              "       [ 0.07522582,  1.7225255 ,  1.6861435 , ...,  0.04768213,\n",
              "         1.657213  ,  0.07425953],\n",
              "       [ 0.50009876,  1.2441009 ,  1.6093069 , ...,  0.6612573 ,\n",
              "         1.4234178 , -0.44916058]], dtype=float32)"
            ]
          },
          "metadata": {
            "tags": []
          },
          "execution_count": 25
        }
      ]
    },
    {
      "cell_type": "code",
      "metadata": {
        "id": "2On5Id1de-cC",
        "colab_type": "code",
        "colab": {}
      },
      "source": [
        "# Extract features of class0 and class1\n",
        "deep_features_train_2classes, deep_labels_train_2classes = extract_2classes(5,7,deep_features_train,deep_labels_train)\n",
        "deep_features_test_2classes, deep_labels_test_2classes = extract_2classes(5,7,deep_features_test,deep_labels_test)"
      ],
      "execution_count": 0,
      "outputs": []
    },
    {
      "cell_type": "code",
      "metadata": {
        "id": "ze9jWLOdfD-v",
        "colab_type": "code",
        "outputId": "2c117ab8-fc11-4d21-f6fd-3acd5a650549",
        "colab": {
          "base_uri": "https://localhost:8080/",
          "height": 109
        }
      },
      "source": [
        "# Binary classification for classes 1 and 2 \n",
        "w = one_vs_one_classifier_ours(deep_features_train_2classes, deep_labels_train_2classes)\n",
        "\n",
        "# Find accuracy\n",
        "calc_accuracy(deep_features_test_2classes, deep_labels_test_2classes, w)"
      ],
      "execution_count": 0,
      "outputs": [
        {
          "output_type": "stream",
          "text": [
            "Running Epoch # 50\n",
            "acc: 1.0\n",
            "Running Epoch # 100\n",
            "acc: 1.0\n",
            "accuracy = 0.9795\n"
          ],
          "name": "stdout"
        }
      ]
    }
  ]
}