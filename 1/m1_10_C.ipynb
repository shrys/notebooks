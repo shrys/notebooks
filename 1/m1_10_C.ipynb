{
  "nbformat": 4,
  "nbformat_minor": 0,
  "metadata": {
    "colab": {
      "name": "m1_10_mlp_CIFAR10.ipynb",
      "version": "0.3.2",
      "provenance": [],
      "collapsed_sections": []
    },
    "kernelspec": {
      "name": "python3",
      "display_name": "Python 3"
    }
  },
  "cells": [
    {
      "cell_type": "code",
      "metadata": {
        "id": "LXtVzljBGaPt",
        "colab_type": "code",
        "colab": {}
      },
      "source": [
        "# Importing required packages\n",
        "import numpy as np\n",
        "import matplotlib.pyplot as plt\n",
        "import os\n",
        "import scipy.io as sio\n",
        "from sklearn.decomposition import PCA\n",
        "import itertools\n",
        "import operator\n",
        "import random\n",
        "import collections\n",
        "from scipy import stats\n",
        "from sklearn.metrics import accuracy_score"
      ],
      "execution_count": 0,
      "outputs": []
    },
    {
      "cell_type": "code",
      "metadata": {
        "id": "oyjlpgmfGhIX",
        "colab_type": "code",
        "colab": {}
      },
      "source": [
        "import pickle\n",
        "def unpickle(file):\n",
        "    with open(file, 'rb') as fo:\n",
        "        dict_1 = pickle.load(fo, encoding='Latin1')\n",
        "    return dict_1"
      ],
      "execution_count": 0,
      "outputs": []
    },
    {
      "cell_type": "markdown",
      "metadata": {
        "id": "aDF5z2iVGk4o",
        "colab_type": "text"
      },
      "source": [
        "Visualization"
      ]
    },
    {
      "cell_type": "code",
      "metadata": {
        "id": "I_n6ZTDyGi70",
        "colab_type": "code",
        "colab": {}
      },
      "source": [
        "def get_data(file):\n",
        "  dict_1 = unpickle(file)\n",
        "  X = np.asarray(dict_1['data']).astype(\"uint8\")\n",
        "  Y = np.asarray(dict_1['labels'])\n",
        "  names = np.asarray(dict_1['filenames'])\n",
        "  list_class=(unpickle(\"AIML_DS_CIFAR-10_STD/batches.meta\")['label_names'])\n",
        "  return X,Y,names,list_class"
      ],
      "execution_count": 0,
      "outputs": []
    },
    {
      "cell_type": "code",
      "metadata": {
        "id": "XzCsTmwmGmwB",
        "colab_type": "code",
        "colab": {}
      },
      "source": [
        "# Function to visualize the data\n",
        "def visualize_image(X, Y, names, image_id,size=(5,5)):\n",
        "    rgb = X[image_id,:]\n",
        "    plt.figure(figsize = size)\n",
        "    img = rgb.reshape(3, 32, 32).transpose([1, 2, 0])\n",
        "    print(img.shape)\n",
        "    plt.grid(False)\n",
        "    plt.imshow(img)\n",
        "    plt.title(names[image_id])\n",
        "    plt.show()"
      ],
      "execution_count": 0,
      "outputs": []
    },
    {
      "cell_type": "code",
      "metadata": {
        "id": "Cbzns8DUGqZC",
        "colab_type": "code",
        "colab": {
          "base_uri": "https://localhost:8080/",
          "height": 345
        },
        "outputId": "53b41431-7e35-499f-adda-a4791e1f075d"
      },
      "source": [
        "# Read 10000 images -- from batch 3\n",
        "X, Y, names, classes = get_data(\"AIML_DS_CIFAR-10_STD/data_batch_3\")\n",
        "# Display the 10th image\n",
        "pick = 10\n",
        "print(\"Class =\",classes[Y[pick]])\n",
        "visualize_image(X, Y, names, pick,size=(0.3,0.3)) # output image would be a blured image\n",
        "visualize_image(X, Y, names, pick,size=(3,3))"
      ],
      "execution_count": 5,
      "outputs": [
        {
          "output_type": "stream",
          "text": [
            "Class = horse\n",
            "(32, 32, 3)\n"
          ],
          "name": "stdout"
        },
        {
          "output_type": "display_data",
          "data": {
            "image/png": "[encoded data removed]",
            "text/plain": [
              "<Figure size 21.6x21.6 with 1 Axes>"
            ]
          },
          "metadata": {
            "tags": []
          }
        },
        {
          "output_type": "stream",
          "text": [
            "(32, 32, 3)\n"
          ],
          "name": "stdout"
        },
        {
          "output_type": "display_data",
          "data": {
            "image/png": "[encoded data removed]",
            "text/plain": [
              "<Figure size 216x216 with 1 Axes>"
            ]
          },
          "metadata": {
            "tags": []
          }
        }
      ]
    },
    {
      "cell_type": "markdown",
      "metadata": {
        "id": "ol8y6H7WGumS",
        "colab_type": "text"
      },
      "source": [
        "Unpickle and train/test"
      ]
    },
    {
      "cell_type": "code",
      "metadata": {
        "id": "Yc5cd0z8GxJb",
        "colab_type": "code",
        "colab": {}
      },
      "source": [
        "X_train = []\n",
        "Y_train = []\n",
        "for j in \"12345\": \n",
        "    batch_file = 'AIML_DS_CIFAR-10_STD/data_batch_'+ j\n",
        "    x_train, y_train, names_train, classes_train = get_data(batch_file)\n",
        "    X_train.extend(x_train)\n",
        "    Y_train.extend(y_train)\n",
        "\n",
        "X_train = np.asarray(X_train)\n",
        "Y_train = np.asarray(Y_train)\n",
        "\n",
        "X_test, Y_test, names_test, classes_test = get_data(\"AIML_DS_CIFAR-10_STD/test_batch\")"
      ],
      "execution_count": 0,
      "outputs": []
    },
    {
      "cell_type": "code",
      "metadata": {
        "id": "CNqPcUC5G3Ye",
        "colab_type": "code",
        "colab": {
          "base_uri": "https://localhost:8080/",
          "height": 35
        },
        "outputId": "263bf01c-18dc-4a78-fb9d-bd3d9e14ea77"
      },
      "source": [
        "Y_test.shape, Y_train.shape, X_test.shape, X_train.shape"
      ],
      "execution_count": 7,
      "outputs": [
        {
          "output_type": "execute_result",
          "data": {
            "text/plain": [
              "((10000,), (50000,), (10000, 3072), (50000, 3072))"
            ]
          },
          "metadata": {
            "tags": []
          },
          "execution_count": 7
        }
      ]
    },
    {
      "cell_type": "code",
      "metadata": {
        "id": "VSXpnF5wG5r8",
        "colab_type": "code",
        "colab": {}
      },
      "source": [
        "# Function to extract the classes\n",
        "def extract_3classes(class0, class1,class2, X, Y):\n",
        "    # Select class #0\n",
        "    X_0 = X[Y == class0]\n",
        "    Y_0 = Y[Y == class0]\n",
        "    # Select class #1\n",
        "    X_1 = X[Y == class1]\n",
        "    Y_1 = Y[Y == class1]\n",
        "    # Select class #2\n",
        "    X_2 = X[Y == class2]\n",
        "    Y_2 = Y[Y == class2]\n",
        "    # Join the two classes to make the set\n",
        "    X_3classes = np.vstack((X_0, X_1,X_2))\n",
        "    Y_3classes = np.concatenate((Y_0, Y_1,Y_2))\n",
        "    return X_3classes, Y_3classes"
      ],
      "execution_count": 0,
      "outputs": []
    },
    {
      "cell_type": "code",
      "metadata": {
        "id": "ukTJgXmXG8Zv",
        "colab_type": "code",
        "colab": {}
      },
      "source": [
        "# Select classes #5 and #7\n",
        "X_train_3classes, Y_train_3classes = extract_3classes(5, 7,9, X_train, Y_train)\n",
        "X_test_3classes, Y_test_3classes = extract_3classes(5, 7,9, X_test, Y_test)"
      ],
      "execution_count": 0,
      "outputs": []
    },
    {
      "cell_type": "code",
      "metadata": {
        "id": "tcJ8VVdFHAE5",
        "colab_type": "code",
        "colab": {
          "base_uri": "https://localhost:8080/",
          "height": 35
        },
        "outputId": "c901d56c-4b98-42e2-c38b-c84bd47e5342"
      },
      "source": [
        "Y_train_3classes"
      ],
      "execution_count": 10,
      "outputs": [
        {
          "output_type": "execute_result",
          "data": {
            "text/plain": [
              "array([5, 5, 5, ..., 9, 9, 9])"
            ]
          },
          "metadata": {
            "tags": []
          },
          "execution_count": 10
        }
      ]
    },
    {
      "cell_type": "markdown",
      "metadata": {
        "id": "MJdxr9JeHCmg",
        "colab_type": "text"
      },
      "source": [
        "Training classifier (MLP sklearn)"
      ]
    },
    {
      "cell_type": "code",
      "metadata": {
        "id": "u1Tvgdp0HGaz",
        "colab_type": "code",
        "colab": {
          "base_uri": "https://localhost:8080/",
          "height": 146
        },
        "outputId": "c5ebdeac-5771-41ad-c06f-55d8d39c1cd2"
      },
      "source": [
        "from sklearn.neural_network import MLPClassifier\n",
        "\n",
        "clf = MLPClassifier(activation= \"relu\",solver= \"lbfgs\" ,hidden_layer_sizes = (15,10) ,learning_rate = 'constant',learning_rate_init=0.01)\n",
        "# Fitting the data into the model\n",
        "clf.fit(X_train_3classes, Y_train_3classes)"
      ],
      "execution_count": 11,
      "outputs": [
        {
          "output_type": "execute_result",
          "data": {
            "text/plain": [
              "MLPClassifier(activation='relu', alpha=0.0001, batch_size='auto', beta_1=0.9,\n",
              "              beta_2=0.999, early_stopping=False, epsilon=1e-08,\n",
              "              hidden_layer_sizes=(15, 10), learning_rate='constant',\n",
              "              learning_rate_init=0.01, max_iter=200, momentum=0.9,\n",
              "              n_iter_no_change=10, nesterovs_momentum=True, power_t=0.5,\n",
              "              random_state=None, shuffle=True, solver='lbfgs', tol=0.0001,\n",
              "              validation_fraction=0.1, verbose=False, warm_start=False)"
            ]
          },
          "metadata": {
            "tags": []
          },
          "execution_count": 11
        }
      ]
    },
    {
      "cell_type": "markdown",
      "metadata": {
        "id": "vXaRHVeIHJNL",
        "colab_type": "text"
      },
      "source": [
        "Accuracy"
      ]
    },
    {
      "cell_type": "code",
      "metadata": {
        "id": "jn1fJwITHKMT",
        "colab_type": "code",
        "colab": {
          "base_uri": "https://localhost:8080/",
          "height": 35
        },
        "outputId": "143ba1fd-34c1-4463-c352-7d56f1f00270"
      },
      "source": [
        "pred = clf.predict(X_test_3classes)\n",
        "accuracy_score(pred, Y_test_3classes)"
      ],
      "execution_count": 12,
      "outputs": [
        {
          "output_type": "execute_result",
          "data": {
            "text/plain": [
              "0.33066666666666666"
            ]
          },
          "metadata": {
            "tags": []
          },
          "execution_count": 12
        }
      ]
    },
    {
      "cell_type": "markdown",
      "metadata": {
        "id": "UhcH_vvAHM3G",
        "colab_type": "text"
      },
      "source": [
        "PCA"
      ]
    },
    {
      "cell_type": "code",
      "metadata": {
        "id": "Ymv7z_kVHN1k",
        "colab_type": "code",
        "colab": {}
      },
      "source": [
        "pca = PCA(n_components=800) \n",
        "pca_train_features = pca.fit_transform(X_train_3classes)\n",
        "pca_test_features = pca.fit_transform(X_test_3classes)"
      ],
      "execution_count": 0,
      "outputs": []
    },
    {
      "cell_type": "code",
      "metadata": {
        "id": "HohsC61BHVHn",
        "colab_type": "code",
        "colab": {
          "base_uri": "https://localhost:8080/",
          "height": 146
        },
        "outputId": "c96fa8f6-ce50-4d26-9c16-8a3e04b1c373"
      },
      "source": [
        "clf.fit(pca_train_features, Y_train_3classes)\n"
      ],
      "execution_count": 14,
      "outputs": [
        {
          "output_type": "execute_result",
          "data": {
            "text/plain": [
              "MLPClassifier(activation='relu', alpha=0.0001, batch_size='auto', beta_1=0.9,\n",
              "              beta_2=0.999, early_stopping=False, epsilon=1e-08,\n",
              "              hidden_layer_sizes=(15, 10), learning_rate='constant',\n",
              "              learning_rate_init=0.01, max_iter=200, momentum=0.9,\n",
              "              n_iter_no_change=10, nesterovs_momentum=True, power_t=0.5,\n",
              "              random_state=None, shuffle=True, solver='lbfgs', tol=0.0001,\n",
              "              validation_fraction=0.1, verbose=False, warm_start=False)"
            ]
          },
          "metadata": {
            "tags": []
          },
          "execution_count": 14
        }
      ]
    },
    {
      "cell_type": "markdown",
      "metadata": {
        "id": "YLay0m3LHc_U",
        "colab_type": "text"
      },
      "source": [
        "Accuracy of above PCA feature pred"
      ]
    },
    {
      "cell_type": "code",
      "metadata": {
        "id": "k1BJeimXHcFi",
        "colab_type": "code",
        "colab": {
          "base_uri": "https://localhost:8080/",
          "height": 35
        },
        "outputId": "32d457bd-d703-45b5-9f40-2a5d01efa4e4"
      },
      "source": [
        "pred = clf.predict(pca_test_features)\n",
        "\n",
        "accuracy_score(pred, Y_test_3classes)\n"
      ],
      "execution_count": 15,
      "outputs": [
        {
          "output_type": "execute_result",
          "data": {
            "text/plain": [
              "0.31566666666666665"
            ]
          },
          "metadata": {
            "tags": []
          },
          "execution_count": 15
        }
      ]
    },
    {
      "cell_type": "markdown",
      "metadata": {
        "id": "Ak_GigbnHkqH",
        "colab_type": "text"
      },
      "source": [
        "Loading deep features"
      ]
    },
    {
      "cell_type": "code",
      "metadata": {
        "id": "3uwVX_fSHm1Z",
        "colab_type": "code",
        "colab": {}
      },
      "source": [
        "features = sio.loadmat('AIML_DS_CIFAR-10_STD/cifar10_deep_features.mat')"
      ],
      "execution_count": 0,
      "outputs": []
    },
    {
      "cell_type": "code",
      "metadata": {
        "id": "zNmBRj3THoW5",
        "colab_type": "code",
        "colab": {
          "base_uri": "https://localhost:8080/",
          "height": 590
        },
        "outputId": "8c5c91e6-6875-406e-d0a8-7ced62812612"
      },
      "source": [
        "features"
      ],
      "execution_count": 17,
      "outputs": [
        {
          "output_type": "execute_result",
          "data": {
            "text/plain": [
              "{'__globals__': [],\n",
              " '__header__': b'MATLAB 5.0 MAT-file Platform: posix, Created on: Fri Jan 12 22:45:23 2018',\n",
              " '__version__': '1.0',\n",
              " 'x_test': array([[ 0.33345997,  0.37266153,  0.09824684, ...,  0.1762989 ,\n",
              "         -0.62388366,  1.3253    ],\n",
              "        [-2.0737371 ,  1.7098147 ,  1.6106052 , ...,  0.49063668,\n",
              "          0.59258294, -0.843072  ],\n",
              "        [-1.7539737 ,  1.5179265 ,  1.512643  , ...,  0.47429788,\n",
              "          0.8105953 , -0.87590677],\n",
              "        ...,\n",
              "        [ 0.5082875 ,  0.3646992 ,  2.015987  , ...,  0.25853962,\n",
              "         -0.36517864, -1.3577914 ],\n",
              "        [ 0.17210843,  1.4968457 ,  1.5449362 , ...,  0.21191677,\n",
              "          1.5700037 , -0.01307811],\n",
              "        [ 0.18151811, -0.08158754,  0.81734157, ...,  0.06941161,\n",
              "          1.6887033 , -0.75160795]], dtype=float32),\n",
              " 'x_train': array([[ 0.19199947,  1.6310866 ,  1.8007108 , ..., -2.2080474 ,\n",
              "          0.04882409,  1.0439223 ],\n",
              "        [ 0.73592114,  0.2177245 ,  0.06937354, ..., -1.5942848 ,\n",
              "         -0.8278478 , -0.70234483],\n",
              "        [ 0.6943621 ,  0.13674362, -0.03510876, ..., -1.4816997 ,\n",
              "         -0.869336  , -0.6859871 ],\n",
              "        ...,\n",
              "        [ 0.7298212 ,  0.09229269, -0.12969325, ..., -0.9711371 ,\n",
              "         -0.6568625 , -0.6555728 ],\n",
              "        [ 0.07522582,  1.7225255 ,  1.6861435 , ...,  0.04768213,\n",
              "          1.657213  ,  0.07425953],\n",
              "        [ 0.50009876,  1.2441009 ,  1.6093069 , ...,  0.6612573 ,\n",
              "          1.4234178 , -0.44916058]], dtype=float32),\n",
              " 'y_test': array([[3, 8, 8, ..., 5, 1, 7]]),\n",
              " 'y_train': array([[6, 9, 9, ..., 9, 1, 1]])}"
            ]
          },
          "metadata": {
            "tags": []
          },
          "execution_count": 17
        }
      ]
    },
    {
      "cell_type": "code",
      "metadata": {
        "id": "8kyWt8WIHrJj",
        "colab_type": "code",
        "colab": {
          "base_uri": "https://localhost:8080/",
          "height": 35
        },
        "outputId": "b2f045d4-908d-49ce-fa04-6562972d8694"
      },
      "source": [
        "# Extracting the deep features into training and testing\n",
        "deep_features_train = features['x_train']\n",
        "deep_labels_train = np.squeeze(np.transpose(features['y_train']))\n",
        "deep_features_test = features['x_test']\n",
        "deep_labels_test = np.squeeze(np.transpose(features['y_test']))\n",
        "print(deep_features_train.shape, deep_labels_train.shape, deep_features_test.shape, deep_labels_test.shape)"
      ],
      "execution_count": 18,
      "outputs": [
        {
          "output_type": "stream",
          "text": [
            "(50000, 512) (50000,) (10000, 512) (10000,)\n"
          ],
          "name": "stdout"
        }
      ]
    },
    {
      "cell_type": "code",
      "metadata": {
        "id": "jzJNchPJHs3d",
        "colab_type": "code",
        "colab": {}
      },
      "source": [
        "# Extract features of class0 and class1\n",
        "deep_features_train_3classes, deep_labels_train_3classes = extract_3classes(5, 7,9, deep_features_train, np.squeeze(deep_labels_train))\n",
        "deep_features_test_3classes, deep_labels_test_3classes = extract_3classes(5, 7,9, deep_features_test, np.squeeze(deep_labels_test))"
      ],
      "execution_count": 0,
      "outputs": []
    },
    {
      "cell_type": "markdown",
      "metadata": {
        "id": "QObmOLOiH5uy",
        "colab_type": "text"
      },
      "source": [
        "Triaining classifier with deep features"
      ]
    },
    {
      "cell_type": "code",
      "metadata": {
        "id": "ru8lZ5-jHuQJ",
        "colab_type": "code",
        "colab": {
          "base_uri": "https://localhost:8080/",
          "height": 146
        },
        "outputId": "1c85e585-e450-4e79-a543-d57524894a8d"
      },
      "source": [
        "clf.fit(deep_features_train_3classes, deep_labels_train_3classes)"
      ],
      "execution_count": 20,
      "outputs": [
        {
          "output_type": "execute_result",
          "data": {
            "text/plain": [
              "MLPClassifier(activation='relu', alpha=0.0001, batch_size='auto', beta_1=0.9,\n",
              "              beta_2=0.999, early_stopping=False, epsilon=1e-08,\n",
              "              hidden_layer_sizes=(15, 10), learning_rate='constant',\n",
              "              learning_rate_init=0.01, max_iter=200, momentum=0.9,\n",
              "              n_iter_no_change=10, nesterovs_momentum=True, power_t=0.5,\n",
              "              random_state=None, shuffle=True, solver='lbfgs', tol=0.0001,\n",
              "              validation_fraction=0.1, verbose=False, warm_start=False)"
            ]
          },
          "metadata": {
            "tags": []
          },
          "execution_count": 20
        }
      ]
    },
    {
      "cell_type": "markdown",
      "metadata": {
        "id": "y8VpkM0LH6e8",
        "colab_type": "text"
      },
      "source": [
        "Accuracy"
      ]
    },
    {
      "cell_type": "code",
      "metadata": {
        "id": "AIr7I9BfH7vD",
        "colab_type": "code",
        "colab": {
          "base_uri": "https://localhost:8080/",
          "height": 35
        },
        "outputId": "94ea7dec-2e85-4a3c-9200-d1cbae2879ce"
      },
      "source": [
        "pred = clf.predict(deep_features_test_3classes)\n",
        "\n",
        "accuracy_score(pred, deep_labels_test_3classes)"
      ],
      "execution_count": 21,
      "outputs": [
        {
          "output_type": "execute_result",
          "data": {
            "text/plain": [
              "0.9733333333333334"
            ]
          },
          "metadata": {
            "tags": []
          },
          "execution_count": 21
        }
      ]
    }
  ]
}