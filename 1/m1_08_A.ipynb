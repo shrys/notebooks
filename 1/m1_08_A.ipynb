{
  "nbformat": 4,
  "nbformat_minor": 0,
  "metadata": {
    "colab": {
      "name": "Untitled1.ipynb",
      "version": "0.3.2",
      "provenance": [],
      "collapsed_sections": []
    },
    "kernelspec": {
      "name": "python3",
      "display_name": "Python 3"
    }
  },
  "cells": [
    {
      "cell_type": "code",
      "metadata": {
        "id": "ApAlvMUUOQni",
        "colab_type": "code",
        "colab": {}
      },
      "source": [
        "import numpy as np\n",
        "from matplotlib import pyplot as plt\n",
        "from sklearn import datasets\n",
        "from sklearn.model_selection import train_test_split\n",
        "from sklearn.neural_network import MLPClassifier\n",
        "from sklearn.metrics import accuracy_score"
      ],
      "execution_count": 0,
      "outputs": []
    },
    {
      "cell_type": "code",
      "metadata": {
        "id": "eU9JopFbOTDv",
        "colab_type": "code",
        "colab": {
          "base_uri": "https://localhost:8080/",
          "height": 146
        },
        "outputId": "15376659-7732-4102-e6c3-7b3839f53310"
      },
      "source": [
        "datasets.load_digits().data"
      ],
      "execution_count": 2,
      "outputs": [
        {
          "output_type": "execute_result",
          "data": {
            "text/plain": [
              "array([[ 0.,  0.,  5., ...,  0.,  0.,  0.],\n",
              "       [ 0.,  0.,  0., ..., 10.,  0.,  0.],\n",
              "       [ 0.,  0.,  0., ..., 16.,  9.,  0.],\n",
              "       ...,\n",
              "       [ 0.,  0.,  1., ...,  6.,  0.,  0.],\n",
              "       [ 0.,  0.,  2., ..., 12.,  0.,  0.],\n",
              "       [ 0.,  0., 10., ..., 12.,  1.,  0.]])"
            ]
          },
          "metadata": {
            "tags": []
          },
          "execution_count": 2
        }
      ]
    },
    {
      "cell_type": "code",
      "metadata": {
        "id": "YsWHRb7dObL3",
        "colab_type": "code",
        "colab": {
          "base_uri": "https://localhost:8080/",
          "height": 293
        },
        "outputId": "c4416389-b4f3-4c97-ea14-45fa759587ba"
      },
      "source": [
        "datasets.load_digits().images[1000]\n",
        "import matplotlib.pyplot as plt \n",
        "plt.gray()\n",
        "plt.matshow(datasets.load_digits().images[100])\n",
        "plt.show()"
      ],
      "execution_count": 3,
      "outputs": [
        {
          "output_type": "display_data",
          "data": {
            "text/plain": [
              "<Figure size 432x288 with 0 Axes>"
            ]
          },
          "metadata": {
            "tags": []
          }
        },
        {
          "output_type": "display_data",
          "data": {
            "image/png": "[encoded data removed]",
            "text/plain": [
              "<Figure size 288x288 with 1 Axes>"
            ]
          },
          "metadata": {
            "tags": []
          }
        }
      ]
    },
    {
      "cell_type": "markdown",
      "metadata": {
        "id": "z5KjRzMbOgM3",
        "colab_type": "text"
      },
      "source": [
        "# **0_0**"
      ]
    },
    {
      "cell_type": "code",
      "metadata": {
        "id": "LLCycGHiOdy1",
        "colab_type": "code",
        "colab": {}
      },
      "source": [
        "#Load MNIST datset \n",
        "digits = datasets.load_digits()\n",
        "data = digits.data\n",
        "target = digits.target"
      ],
      "execution_count": 0,
      "outputs": []
    },
    {
      "cell_type": "code",
      "metadata": {
        "id": "cIPKSmzCOrlZ",
        "colab_type": "code",
        "colab": {
          "base_uri": "https://localhost:8080/",
          "height": 35
        },
        "outputId": "4ca6a82e-bb4b-4060-8f48-8ad8636d87bd"
      },
      "source": [
        "data.shape"
      ],
      "execution_count": 5,
      "outputs": [
        {
          "output_type": "execute_result",
          "data": {
            "text/plain": [
              "(1797, 64)"
            ]
          },
          "metadata": {
            "tags": []
          },
          "execution_count": 5
        }
      ]
    },
    {
      "cell_type": "markdown",
      "metadata": {
        "id": "1RM0RU9ZPUWZ",
        "colab_type": "text"
      },
      "source": [
        "Traian-Split"
      ]
    },
    {
      "cell_type": "code",
      "metadata": {
        "id": "_0uW7ZthPSqU",
        "colab_type": "code",
        "colab": {}
      },
      "source": [
        "from sklearn.model_selection import train_test_split"
      ],
      "execution_count": 0,
      "outputs": []
    },
    {
      "cell_type": "code",
      "metadata": {
        "id": "c4i07AN9PZq3",
        "colab_type": "code",
        "colab": {}
      },
      "source": [
        "X_train, X_test, Y_train, Y_test =  train_test_split(data,target,test_size=0.2)"
      ],
      "execution_count": 0,
      "outputs": []
    },
    {
      "cell_type": "code",
      "metadata": {
        "id": "Yp2YUkAGPZnS",
        "colab_type": "code",
        "colab": {}
      },
      "source": [
        "#function to Create MLP classifier object with hyper parameters\n",
        "def mlp(activation, solver, hidden_layer, lr):\n",
        "    clf = MLPClassifier(hidden_layer_sizes=hidden_layer,activation=activation,solver=solver,learning_rate_init=lr, max_iter=5000)#Mapping the input parameters passed above to appropriate parameters of Sklearn's 'MLP'\n",
        "    return clf \n",
        "#function to calculate the accuracy\n",
        "def accuracy(actual,predicted):\n",
        "    return accuracy_score(actual,predicted)"
      ],
      "execution_count": 0,
      "outputs": []
    },
    {
      "cell_type": "markdown",
      "metadata": {
        "id": "-hdnOHsrOviM",
        "colab_type": "text"
      },
      "source": [
        "Hyper parameters for MLP classifier"
      ]
    },
    {
      "cell_type": "code",
      "metadata": {
        "id": "IeuxzZ2WOtEj",
        "colab_type": "code",
        "colab": {}
      },
      "source": [
        "# activation: Activation functions are critical in introducing non-linearity in MLP (in absence of this all layers of MLP combine into a single layer)\n",
        "activation = [\"identity\",\"logistic\",\"tanh\",\"relu\"]\n",
        "#solvers: The following are the methods by which your weights get updated.\n",
        "solvers = [\"lbfgs\",\"sgd\",\"adam\"]\n",
        "#learning rate\n",
        "learning_rate = [0.0001,0.001,0.01,0.1]\n",
        "#hidden layers\n",
        "hidden_layers = [(5,2),(3,2),(6,3),(7,2)]"
      ],
      "execution_count": 0,
      "outputs": []
    },
    {
      "cell_type": "code",
      "metadata": {
        "id": "upEhuZmiOyCN",
        "colab_type": "code",
        "colab": {
          "base_uri": "https://localhost:8080/",
          "height": 1311
        },
        "outputId": "e3431a75-4c5a-4c45-f5fd-719f417aefa5"
      },
      "source": [
        "test_accuracy = []\n",
        "validation_accuracy = []\n",
        "train_accuracy = []\n",
        "for i in range(10):\n",
        "    k1 = np.random.randint(0,len(activation))\n",
        "    k2 = np.random.randint(0,len(solvers))\n",
        "    k3 = np.random.randint(0,len(learning_rate))\n",
        "    k4 = np.random.randint(0,len(hidden_layers))\n",
        "    print(\"\\nHyper-parameters = \\n activation = \", activation[k1],    \"\\n solver = \", solvers[k2], \"\\n learning_rate_init = \", learning_rate[k3], \"\\n hidden_layer_sizes = \", hidden_layers[k4])\n",
        "    #calling the mlp function with random hyper paramters\n",
        "    clf = mlp(activation[k1],solvers[k2],hidden_layers[k4],learning_rate[k3])\n",
        "    #Fitting the data into model\n",
        "    clf.fit(X_train,Y_train)\n",
        "    #Predicting the values on trained model using train data\n",
        "    predTrain = clf.predict((X_train))# YOUR CODE HERE\n",
        "    #Calculating the train accuracy\n",
        "    predTrainAcc = accuracy(Y_train,predTrain)\n",
        "    train_accuracy.append(predTrainAcc)\n",
        "    # Predicting the values on trained model using test data\n",
        "    predTest = clf.predict((X_test))\n",
        "    #Calculating the test accuracy\n",
        "    predTestAcc = accuracy(Y_test,predTest)\n",
        "    test_accuracy.append(predTestAcc)\n",
        "    print(\"(train,  test) accuracy = \", predTrainAcc, predTestAcc)"
      ],
      "execution_count": 13,
      "outputs": [
        {
          "output_type": "stream",
          "text": [
            "\n",
            "Hyper-parameters = \n",
            " activation =  identity \n",
            " solver =  lbfgs \n",
            " learning_rate_init =  0.01 \n",
            " hidden_layer_sizes =  (5, 2)\n",
            "(train,  test) accuracy =  0.8197633959638135 0.7527777777777778\n",
            "\n",
            "Hyper-parameters = \n",
            " activation =  relu \n",
            " solver =  adam \n",
            " learning_rate_init =  0.01 \n",
            " hidden_layer_sizes =  (6, 3)\n",
            "(train,  test) accuracy =  0.9151009046624913 0.8722222222222222\n",
            "\n",
            "Hyper-parameters = \n",
            " activation =  logistic \n",
            " solver =  sgd \n",
            " learning_rate_init =  0.001 \n",
            " hidden_layer_sizes =  (5, 2)\n",
            "(train,  test) accuracy =  0.5560194850382741 0.5055555555555555\n",
            "\n",
            "Hyper-parameters = \n",
            " activation =  identity \n",
            " solver =  lbfgs \n",
            " learning_rate_init =  0.0001 \n",
            " hidden_layer_sizes =  (7, 2)\n",
            "(train,  test) accuracy =  0.8211551844119693 0.75\n",
            "\n",
            "Hyper-parameters = \n",
            " activation =  identity \n",
            " solver =  sgd \n",
            " learning_rate_init =  0.0001 \n",
            " hidden_layer_sizes =  (6, 3)\n",
            "(train,  test) accuracy =  0.8538622129436325 0.8083333333333333\n",
            "\n",
            "Hyper-parameters = \n",
            " activation =  relu \n",
            " solver =  sgd \n",
            " learning_rate_init =  0.001 \n",
            " hidden_layer_sizes =  (7, 2)\n",
            "(train,  test) accuracy =  0.7376478775226165 0.6555555555555556\n",
            "\n",
            "Hyper-parameters = \n",
            " activation =  relu \n",
            " solver =  adam \n",
            " learning_rate_init =  0.1 \n",
            " hidden_layer_sizes =  (5, 2)\n",
            "(train,  test) accuracy =  0.10508002783576896 0.08333333333333333\n",
            "\n",
            "Hyper-parameters = \n",
            " activation =  logistic \n",
            " solver =  adam \n",
            " learning_rate_init =  0.01 \n",
            " hidden_layer_sizes =  (5, 2)\n",
            "(train,  test) accuracy =  0.6311760612386917 0.55\n",
            "\n",
            "Hyper-parameters = \n",
            " activation =  relu \n",
            " solver =  adam \n",
            " learning_rate_init =  0.1 \n",
            " hidden_layer_sizes =  (5, 2)\n",
            "(train,  test) accuracy =  0.10508002783576896 0.08333333333333333\n",
            "\n",
            "Hyper-parameters = \n",
            " activation =  identity \n",
            " solver =  adam \n",
            " learning_rate_init =  0.0001 \n",
            " hidden_layer_sizes =  (5, 2)\n",
            "(train,  test) accuracy =  0.7355601948503827 0.6944444444444444\n"
          ],
          "name": "stdout"
        }
      ]
    },
    {
      "cell_type": "code",
      "metadata": {
        "id": "IfENqadFPm2D",
        "colab_type": "code",
        "colab": {
          "base_uri": "https://localhost:8080/",
          "height": 269
        },
        "outputId": "72e9bf49-246f-4bc4-fae0-3177f79d18cf"
      },
      "source": [
        "## Plotting the data\n",
        "xx = np.array(range(1,11))\n",
        "#Bar chart to compare train_accuracy and test_accuracy\n",
        "plt.bar(xx,train_accuracy, width=0.35)\n",
        "plt.bar(xx + 0.35,test_accuracy, width=0.35)\n",
        "plt.legend([\"Train\",\"Test\"])\n",
        "plt.show()"
      ],
      "execution_count": 14,
      "outputs": [
        {
          "output_type": "display_data",
          "data": {
            "image/png": "[encoded data removed]",
            "text/plain": [
              "<Figure size 432x288 with 1 Axes>"
            ]
          },
          "metadata": {
            "tags": []
          }
        }
      ]
    }
  ]
}